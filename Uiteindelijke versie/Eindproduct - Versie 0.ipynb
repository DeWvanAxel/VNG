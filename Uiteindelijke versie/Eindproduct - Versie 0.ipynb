{
 "cells": [
  {
   "cell_type": "code",
   "execution_count": 3,
   "metadata": {},
   "outputs": [],
   "source": [
    "import json\n",
    "import requests\n",
    "from pprint import pprint\n",
    "import numpy as np\n",
    "import pandas as pd\n",
    "import re\n",
    "import pickle\n",
    "from sklearn.metrics import classification_report,jaccard_similarity_score\n",
    "from sklearn.metrics import accuracy_score, confusion_matrix, f1_score, precision_score, recall_score\n",
    "from sklearn.linear_model import SGDClassifier, LogisticRegression\n",
    "from sklearn.feature_extraction.text import TfidfVectorizer\n",
    "from sklearn.feature_extraction.text import TfidfTransformer\n",
    "from sklearn.feature_extraction.text import CountVectorizer\n",
    "from sklearn.linear_model import SGDClassifier, LogisticRegression\n",
    "from sklearn.metrics import accuracy_score, confusion_matrix, f1_score, precision_score, recall_score, classification_report,jaccard_similarity_score\n",
    "from sklearn.model_selection import train_test_split\n",
    "from sklearn.model_selection import learning_curve\n",
    "from sklearn.multiclass import OneVsRestClassifier, OneVsOneClassifier\n",
    "from sklearn.naive_bayes import MultinomialNB\n",
    "import sqlite3\n",
    "from sqlalchemy import create_engine\n",
    "engine = create_engine('sqlite://', echo=False)"
   ]
  },
  {
   "cell_type": "code",
   "execution_count": 4,
   "metadata": {},
   "outputs": [],
   "source": [
    "conn = sqlite3.connect('example.db')\n",
    "c = conn.cursor()\n",
    "\n",
    "# Create table\n",
    "c.execute('''CREATE TABLE documents\n",
    "             (tekst text, ids text, agenda int, bestuurEnBeleid int, veiligheid int, onderwijs int, \n",
    "             economie int, verkeer int, sociaal int, wonen int, gezondheid int, cultuur int)''')\n",
    "\n",
    "# Save (commit) the changes\n",
    "conn.commit()\n",
    "\n",
    "# We can also close the connection if we are done with it.\n",
    "# Just be sure any changes have been committed or they will be lost.\n",
    "conn.close()"
   ]
  },
  {
   "cell_type": "code",
   "execution_count": 14,
   "metadata": {},
   "outputs": [
    {
     "name": "stdout",
     "output_type": "stream",
     "text": [
      "[(0.9000794368264913,), (0.8248939840755267,), (0.9726710095736524,), (0.9866998702550696,), (0.9000794368264913,), (0.8248939840755267,), (0.9726710095736524,), (0.9866998702550696,), (0.9000794368264913,), (0.8248939840755267,), (0.9726710095736524,), (0.9866998702550696,), (0.9994612705495116,), (0.9970773459172892,), (0.9774787250345098,), (0.8265334966279044,), (0.8838076067145738,), (0.8754124546241716,)]\n"
     ]
    }
   ],
   "source": [
    "con = sqlite3.connect('example.db')\n",
    "cursor = con.cursor()\n",
    "cursor.execute(\"SELECT cultuur FROM documents\")\n",
    "print(cursor.fetchall())\n",
    "conn.close()"
   ]
  },
  {
   "cell_type": "code",
   "execution_count": 5,
   "metadata": {},
   "outputs": [],
   "source": [
    "def classify_new_documents(listOfDocs):\n",
    "    classificationModel, tfidfModel = load_models()\n",
    "    listOfDocs, listOfDocsMatrix = prepare(listOfDocs, tfidfModel)\n",
    "    #for i in np.where(classificationModel[3].coef_[0] > 5)[0]:\n",
    "    #    print(tfidfModel.get_feature_names()[i])\n",
    "    listOfDocs = classify(listOfDocs, listOfDocsMatrix,classificationModel)\n",
    "    add_documents(listOfDocs)\n",
    "    return listOfDocs\n",
    "    \n",
    "    \n",
    "def use_feedback(listOfDocIDs, listOfFeedback):\n",
    "    \n",
    "    return"
   ]
  },
  {
   "cell_type": "code",
   "execution_count": 6,
   "metadata": {},
   "outputs": [],
   "source": [
    "beleidsWoorden = ['bestuur en beleid','facilitering','bevolkingsregister','straatnaamgeving','kadaster','kadastrale','stelposten','begrotingsruimte','integratieuitkeringen','decentralisatieuitkeringen','accountantscontrole','ombudsfunctie','rekenkamer','reiskosten','loonkosten', 'paspoorten', 'rijbewijzen', 'verkiezingen', 'documentaire informatievoorziening ', 'inkoop', 'ozb', 'onroerend zaakbelasting ', 'parkeerbelasting', 'hondenbelasting ', 'precariobeslasting ', 'reclamebelasting ', 'vennootschapsbelasting', 'algemene uitkering ', 'mutaties reserves', 'dividend nutsbedrijven']\n",
    "veiligheidWoorden = ['veiligheid', 'bibob', 'criminaliteit','criminelen','inbraken','explosieven','radicalisering','doodschouw','buitengewoon opsporingsambtenaar','crisisbeheersing', 'brandweer', 'brandbestrijding', 'rampenbestrijding', 'halt', 'apv', 'boa', 'georganiseerde criminaliteit', 'wet wapen en munitie', 'antidiscriminatiebeleid', 'dierenbescherming ', 'politie', 'leges drank en horeca', 'openbare orde']\n",
    "onderwijsWoorden = ['onderwijs', 'onderwijshuisvesting', 'school', 'scholen', 'basisschool', 'bewegingsonderwijs', 'leraren', 'vandalismebestrijding', 'schoolgebouwen', 'onderwijsbeleid', 'leerlingzaken', 'leerkrachten', 'volwasseneneducatie', 'peuterspeelzaal', 'peuterspeelzalen', 'leerlingbegeleiding', 'leerlingzorg', 'leerlingenvervoer', 'schooldeelname', 'leerplicht', 'schoolverlaten', 'basisonderwijs']\n",
    "economieWoorden = ['economische ontwikkeling','economie','economische','winkeliers','ondernemers', 'toerisme', 'landbouw','veeteelt','visserij','promotie', 'toeristen', 'beurzen', 'beurs', 'jaarmarkten', 'forensenbelasting', 'toeristenbelasting', 'vermakelijkhedenretributies', 'bedrijvenloket', 'ondernemersloket', 'startende ondernemers', 'straathandel', 'markten', 'biz-bijdrage', 'marktgelden', 'grondexploitatie bedrijventerreinen', 'winkelgebieden', 'bedrijfslocaties']\n",
    "verkeerWoorden = ['verkeer', 'verkeersbeleid', 'verkeersmaatregelen', 'verkeersveiligheid', 'wegen', 'pleinen', 'fietspad', 'voetpad', 'straten', 'civieltechnische kunstwerken', 'straatverlichting', 'gladheidbestrijding', 'sneeuwruimen', 'strooien', 'straatreiniging', 'zwerfafval', 'parkeerbeleid', 'parkeermeters', 'parkeervoorzieningen ', 'jachthaven ', 'bruggelden', 'passantenhaven', 'liggelden', 'havengelden', 'baggerwerkzaamheden ', 'zeehavens', 'binnenhavens ', 'doorgaande waterwegen', 'waterkering ', 'afwatering', 'openbaar vervoer', 'bus', 'tram', 'metro', 'veerdiensten', 'taxivervoer', 'busstation', 'metrostation', 'multimodaal knooppunt']\n",
    "cultuurWoorden = ['sport en cultuur', 'sportbeleid', 'topsport', 'sportbeoefening', 'recreatie', 'sport', 'cultuur', 'recreatieve', 'sportaccommodaties','sportverenigingen', 'sportvelden', 'zwembad', 'schaatshal', 'trapveldje', 'voetbalveld', 'voetbal', 'hockey', 'volleybal', 'handbal', 'muziek', 'dans', 'toneel', 'kunst', 'cultuurparticipatie', 'cultuurpresentatie', 'cultuurproductie', 'cultuuruitingen', 'kunstenaars', 'kunstwerken', 'cultuureducatie', 'herdenking', 'musea', 'museum', 'expositie', 'archeologie','archeologisch', 'heemkunde', 'historische archieven', 'bibliotheken', 'bibliotheek','stadsgezicht','monumenten','monumentenwet','lokale pers', 'lokale omroep', 'lokale informatievoorziening', 'natuurbescherming', 'onderhoud van bos', 'vijvers', 'vijver', 'openbaar groen', 'betuining', 'hobbyclub', 'volkstuinvereniging', 'speelvoorziening', 'recreatievoorziening']\n",
    "gezondheidsWoorden = ['volksgezondheid', 'milieu', 'gezondheidssituatie', 'gezondheid', 'gezondheidsbevordering', 'infectieziekten', 'vaccinaties', 'vaccinatie','prenatale', 'psychosociale hulp', 'centrum jeugd en gezin', 'ziekenvervoer', 'ambulance', 'riolering', 'oppervlaktewater', 'rioolwaterzuivering', 'rioolheffing', 'grondwater', 'afvalwater', 'hemelwater', 'afval', 'vuilophaal', 'reinigingsrechten', 'vuilstort', 'afvalstoffenheffing', 'milieubeheer', 'geluidhinder', 'bodemsanering', 'rud', 'regionale uitvoeringsdiensten', 'ongediertebestrijding', 'recycling', 'begraafplaatsen', 'begraafplaats','crematoria', 'grafrechten', 'luchtkwaliteit', 'milieubeleid', 'milieukwaliteit']\n",
    "sociaalWoorden = ['sociaal domein', 'burgerparticipatie', 'amw', 'algemeen maatschappelijk werk', 'burgerinitiatieven', 'eenzaamheidsbestrijding', 'collectief aanvullend vervoer', 'kinderopvang', 'noodopvang vluchtelingen', 'vreemdelingen', 'wijkteams', 'inkomensregelingen', 'ioaw', 'ioaz', 'wet inkomensvoorzieningen oudere en gedeeltelijk arbeidsongeschikte werkloze werknemers', 'wet inkomensvoorzieningen oudere en gedeeltelijk arbeidsongeschikte gewezen zelfstandigen', 'bijstandverlening', 'inkomensregeling', 'participatiewet', 'loonkostensubsidies', 'bijstandsverlening', 'bijstand', 'schuldhulpverlening', 'beschut werken', 'work first', 'proefplaatsen', 'participatieplaatsen', 'vrijwilligerswerk', 'detacheringsbanen', 'erkenning van verworven competenties', 'evc', 'loonkostensubsidie', 'jobcoach', 'werkplekaanpassingen', 'werkvoorzieningen', 'doventolk', 'inkomensvrijlating', 'stimuleringspremies', 'onkostenvergoedingen', 'no-riskpolis', 'inburgering', 'cursus nederlands', 'loonwaardebepaling', 'besluit bijstandsverlening zelfstandigen', 'bbz', 'maatwerkdienstverlening', 'maatwerkvoorzieningen', 'wmo', 'woningaanpassingen', 'gehandicaptenparkeerkaart ', 'eigen bijdrage', 'mantelzorg', 'pgb', 'jeugd-ggz', 'jeugdzorg', 'gescaleerde zorg', 'beschermdwonenvoorzieningen', 'opvangvoorzieningen', 'vrouwenopvang', 'veilig thuis', 'aanpak huiselijk geweld', 'beschermd wonen', 'kinderbeschermingsmaatregelen', 'jeugdreclassering ', 'ouderbijdragen']\n",
    "wonenWoorden = ['volkshuisvesting en ruimtelijke ordening', 'ruimtelijke ordening', 'bgt', 'basisregistratie grootschalige topografie', 'bestemmingsplan', 'bestemmingsplannen', 'grondbeleid', 'cai', 'breedband', 'glasvezel', 'grondexploitatie', 'grondverwerving', 'bouwrijpe gronden', 'bouwgrondcomplexen', 'gebiedsontwikkeling', 'woningvoorraad', 'huisvestingsvoorziening', 'basisregistratie adressen en gebouwen', 'bouwtoezicht', 'bag', 'woningbouw', 'woningverbetering', 'woonruimteverdeling', 'woningsplitsingsvergunning', 'woonvergunning', 'stedelijke vernieuwing', 'woningvoorraad', 'woonomgeving']\n",
    "lijsten = [beleidsWoorden,veiligheidWoorden,onderwijsWoorden,economieWoorden,verkeerWoorden,sociaalWoorden,wonenWoorden,gezondheidsWoorden,cultuurWoorden]"
   ]
  },
  {
   "cell_type": "code",
   "execution_count": 59,
   "metadata": {},
   "outputs": [],
   "source": [
    "def load_models():\n",
    "    transformer = TfidfTransformer()\n",
    "    tfidfModel = pickle.load(open(\"Models\\\\tfidf.pickle\", \"rb\"))\n",
    "    classificationModels = []\n",
    "    for lijst in lijsten:\n",
    "        classificationModels.append(pickle.load(open(\"Models\\\\\"+lijst[0]+ \".pickle\", \"rb\")))\n",
    "    return classificationModels, tfidfModel\n",
    "\n",
    "def preprocess(text):\n",
    "    text = text.lower()\n",
    "    text = re.sub(\"<\\w*>\", '', text)\n",
    "    text = re.sub(\"<\\w*\\s\\/>\", '', text)\n",
    "    text = re.sub(\"^https?:\\/\\/.*[\\r\\n]*\", '', text)\n",
    "    text = re.sub('\\\\\\\\x\\S.', '', text)\n",
    "    text = re.sub('[^a-z\\s]', '', text)\n",
    "    text = re.sub(\"\\s+\", \" \", text)\n",
    "    return text\n",
    "\n",
    "def prepare(listOfDocs, tfidfModel):\n",
    "    listOfDocs[\"text\"] = listOfDocs[\"text\"].apply(preprocess)\n",
    "    listOfDocsMatrix = tfidfModel.transform(listOfDocs[\"text\"])\n",
    "    return listOfDocs, listOfDocsMatrix\n",
    "\n",
    "def classify(listOfDocs, listOfDocsMatrix, classificationModels):\n",
    "    listOfDocs = classifyAgenda(listOfDocs)\n",
    "    for clf, lijst in zip(classificationModels, lijsten):\n",
    "        listOfDocs[lijst[0]] = clf.predict_proba(listOfDocsMatrix)[:,0]\n",
    "        regex = r\"\\b(\" \n",
    "        for word in lijst:\n",
    "            regex += word + \"|\" \n",
    "        regex = regex[:-1]\n",
    "        regex += r\")\\b\"\n",
    "        extra = (listOfDocs['text'].str.count(regex) / listOfDocs[\"text\"].str.split().apply(len)) * 5\n",
    "        listOfDocs[lijst[0]] -= extra\n",
    "    return listOfDocs\n",
    "\n",
    "def classifyAgenda(listOfDocs):\n",
    "    listOfDocs[\"agenda\"] = 0\n",
    "    listOfDocs[\"agenda\"] = listOfDocs[\"text\"].str.slice(0,25).str.contains(\"agenda\")*(listOfDocs[\"text\"].str.slice(0,30).str.contains(\"agendapunt|raadsvoorstel\")==False)\n",
    "    return listOfDocs\n",
    "\n",
    "def add_documents(listOfDocs):\n",
    "    listOfDocs.to_sql('documents', index=False, con=engine, if_exists='replace')\n",
    "    purchases = engine.execute(\"SELECT * FROM documents\").fetchall()\n",
    "    conn = sqlite3.connect('example.db')\n",
    "    c = conn.cursor()\n",
    "    c.executemany('INSERT INTO documents VALUES (?,?,?,?,?,?,?,?,?,?,?,?)', purchases)\n",
    "    conn.commit()    \n",
    "    return"
   ]
  },
  {
   "cell_type": "code",
   "execution_count": 37,
   "metadata": {},
   "outputs": [
    {
     "name": "stdout",
     "output_type": "stream",
     "text": [
      "    ids                                               text  agenda  \\\n",
      "0     1  coperatie agrobosbouw nl aan het gemeentebestu...   False   \n",
      "1     2  from to subject date attachments frank menger ...   False   \n",
      "2     3  bijlage bij de voordracht van november documen...   False   \n",
      "3     4  v o o r d r a c h t november documentnummer vv...   False   \n",
      "4     5  geachte leden van de gemeenteraad graag vragen...   False   \n",
      "5     6  benchmark duurzaam inkopen van vervoer een ond...   False   \n",
      "6     7  brief bewoners stockholmstraat zwolle november...   False   \n",
      "7     8  from to cc subject date anker ed frank klomp h...   False   \n",
      "8     9  aan het college van burgemeester en wethouders...   False   \n",
      "9    10  ui rt ro o ccdsgnfls j i luttenbergstraat post...   False   \n",
      "10   11                                             agenda    True   \n",
      "\n",
      "    bestuur en beleid  veiligheid  onderwijs  economische ontwikkeling  \\\n",
      "0            0.956038    0.995113   0.993016                  0.781758   \n",
      "1            0.996182    0.995070   0.984490                  0.821903   \n",
      "2            0.998794    0.997817   0.987238                  0.957477   \n",
      "3            0.971271    0.999678   0.958727                  0.983517   \n",
      "4            0.940777    0.988021   0.979114                  0.983477   \n",
      "5            0.880335    0.995075   0.897540                  0.987624   \n",
      "6            0.999829    0.991393   0.989638                  0.992219   \n",
      "7            0.992707    0.984799   0.990690                  0.936250   \n",
      "8            0.993093    0.987755   0.986387                  0.578723   \n",
      "9            0.993010    0.997675   0.999164                  0.853466   \n",
      "10           0.990439    0.912172   0.858919                  0.018344   \n",
      "\n",
      "     verkeer  sociaal domein  volkshuisvesting en ruimtelijke ordening  \\\n",
      "0   0.958464        0.998454                                  0.947359   \n",
      "1   0.963620        0.993617                                  0.951680   \n",
      "2   0.011772        0.996971                                  0.996578   \n",
      "3   0.891467        0.980936                                  0.910694   \n",
      "4   0.954972        0.999506                                  0.999859   \n",
      "5   0.928883        0.985249                                  0.999957   \n",
      "6   0.787688        0.996776                                  0.617624   \n",
      "7   0.947256        0.922236                                  0.656062   \n",
      "8   0.975217        0.090083                                  0.970191   \n",
      "9   0.992864        0.950147                                  0.997613   \n",
      "10  0.985939        0.776792                                  0.896327   \n",
      "\n",
      "    volksgezondheid  sport en cultuur  \n",
      "0          0.943508          0.900079  \n",
      "1          0.993490          0.824894  \n",
      "2          0.970881          0.972671  \n",
      "3          0.936281          0.986700  \n",
      "4         -0.059312          0.999461  \n",
      "5         -0.099774          0.997077  \n",
      "6          0.995139          0.977479  \n",
      "7          0.813287          0.826533  \n",
      "8          0.965991          0.883808  \n",
      "9          0.984066          0.875412  \n",
      "10         0.993637          0.649054  \n"
     ]
    },
    {
     "name": "stderr",
     "output_type": "stream",
     "text": [
      "C:\\Users\\PC-Axel\\AppData\\Local\\Continuum\\anaconda3\\lib\\site-packages\\pandas\\core\\computation\\expressions.py:179: UserWarning: evaluating in Python space because the '*' operator is not supported by numexpr for the bool dtype, use '&' instead\n",
      "  .format(op=op_str, alt_op=unsupported[op_str]))\n"
     ]
    }
   ],
   "source": [
    "r = requests.get(\"http://api.openraadsinformatie.nl/v0/zwolle/events/7bd357c38299b966b59b25c6f3d50a2ebfd5751e\")\n",
    "data = r.json()\n",
    "listOfData = [point[\"description\"] for point in data[\"sources\"]]\n",
    "\n",
    "listOfID = [1,2,3,4,5,6,7,8,9,10,11]\n",
    "listOfData = listOfData[:10]\n",
    "listOfData.append(\"agenda\")\n",
    "d = {\"text\": listOfData[:11], \"ids\":listOfID[:11]}\n",
    "df = pd.DataFrame(data=d)\n",
    "print(classify_new_documents(df))"
   ]
  },
  {
   "cell_type": "code",
   "execution_count": 41,
   "metadata": {},
   "outputs": [
    {
     "name": "stdout",
     "output_type": "stream",
     "text": [
      "['ui', 'rt', 'ro', 'o', 'ccdsgnfls', 'j', 'i', 'luttenbergstraat', 'postbus', 'ontvangen', 'i', 'ro', 'gb', 'zwolle', 'vd', 'telefoon', 'fax', 'overijsselnl', 'nov', 'gemeente', 'zwolle', 'tav', 'de', 'griffier', 'de', 'heer', 'a', 'ten', 'have', 'postbus', 'ga', 'zwolle', 'postbusoverijsselnl', 'registratuur', 'kvk', 'iban', 'nlrabo', 'inlichtingen', 'bij', 'b', 'post', 'mw', 'smm', 'hoogeboomvan', 'der', 'valk', 'telefoon', 'smmhoogeboomoverljsselnl', 'onderwerpsamen', 'voor', 'goed', 'bestuur', 'kwaliteit', 'van', 'het', 'openbaar', 'bestuur', 'in', 'overijssel', 'najaar', 'datum', 'bijlagen', 'i', 'brief', 'samen', 'voor', 'goed', 'bestuur', 'ii', 'activiteitenschema', 'samen', 'voor', 'goed', 'bestuur', 'pagina', 'hierbij', 'ontvangt', 'u', 'in', 'afschrift', 'de', 'brief', 'samen', 'voor', 'goed', 'bestuur', 'en', 'bijbehorend', 'activiteitenschema', 'die', 'wij', 'naar', 'de', 'besturen', 'van', 'de', 'overijsselse', 'gemeenten', 'regios', 'en']\n"
     ]
    }
   ],
   "source": [
    "print(preprocess(data[\"sources\"][6][\"description\"]).split()[:100])\n"
   ]
  },
  {
   "cell_type": "code",
   "execution_count": 81,
   "metadata": {},
   "outputs": [
    {
     "name": "stdout",
     "output_type": "stream",
     "text": [
      "2\n",
      "   ids                                               text  agenda  \\\n",
      "0    1  from to subject date attachments frank menger ...   False   \n",
      "1    2  naar buiten te treden in de media dat wunderli...   False   \n",
      "\n",
      "   bestuur en beleid  veiligheid  onderwijs  economische ontwikkeling  \\\n",
      "0           0.990765    0.991629   0.987678                  0.904639   \n",
      "1           0.994366    0.988411   0.942694                  0.815518   \n",
      "\n",
      "    verkeer  sociaal domein  volkshuisvesting en ruimtelijke ordening  \\\n",
      "0  0.945511        0.989885                                  0.916642   \n",
      "1  0.968402        0.976398                                  0.967854   \n",
      "\n",
      "   volksgezondheid  sport en cultuur  \n",
      "0         0.988593          0.817820  \n",
      "1         0.987471          0.875236  \n"
     ]
    },
    {
     "name": "stderr",
     "output_type": "stream",
     "text": [
      "C:\\Users\\PC-Axel\\AppData\\Local\\Continuum\\anaconda3\\lib\\site-packages\\pandas\\core\\computation\\expressions.py:179: UserWarning: evaluating in Python space because the '*' operator is not supported by numexpr for the bool dtype, use '&' instead\n",
      "  .format(op=op_str, alt_op=unsupported[op_str]))\n"
     ]
    }
   ],
   "source": [
    "def splitter(n, s):\n",
    "    pieces = s.split()\n",
    "    return (\" \".join(pieces[i:i+n]) for i in range(0, len(pieces), n))\n",
    "\n",
    "listOfData = []\n",
    "for piece in splitter(200, preprocess(data[\"sources\"][1][\"description\"] )) :\n",
    "    listOfData.append(piece)\n",
    "\n",
    "print(len(listOfData))\n",
    "d = {\"text\": listOfData[:2], \"ids\":listOfID[:2]}\n",
    "df = pd.DataFrame(data=d)\n",
    "print(classify_new_documents(df))"
   ]
  },
  {
   "cell_type": "code",
   "execution_count": 82,
   "metadata": {},
   "outputs": [
    {
     "name": "stdout",
     "output_type": "stream",
     "text": [
      "from to subject date attachments frank menger statengriffiefryslannl drents parlement griffieleeuwardennl griffierassennl raadsgriffie statengriffieoverijsselnl griffiernoordoostpoldernl internationale snelle treinverbindingen prorail en het project wunderline bottleneck groningen bremen vrijdag november voordracht ps planuitwerkingsbesluit deel project wunderlinepdf bijlage voortgang project wunderline juli november pdf voordracht ps planuitwerkingsbesluit deel project wunderlinepdf pxicenetworkpng geachte leden van de raden en staten de in tekst bijgevoegde onderliggende mail stuur ik naar u met een reden het grootste gat in het internationaal voor nederland bevindt zich in het noordoostelijk deel van het land waarbij de omleiding van de trein naar berlijn via zwolle en het project wunderline elkaar niet bijten tussen beide hoofdverbindingen zit een permanent geografisch gat van gemiddeld kilometer beide bedienen dan ook iets andere geografische markten dit vanwege de studies die in overijssel plaats hebben gevonden maar voor heel noordnederland en overijssel is de tweede uitgang naar duitsland via het noorden van ruimtelijk economisch belang geachte leden van de commissie door dit nieuwsbericht uit de telegraaf httpwwwtelegraafnlnieuwsberlijnpakdetrein werd ik op het volgende bericht van prorail gewezen httpswwwprorailnlnieuwshetinternationalespoormoetsneller makkelijkerengoedkoperworden uw project wunderline valt hier binnen en de randstedelijke media vergeten in dit rijtje rechtstreeks bremen en hamburg via groningen is dit niet het moment om stevig\n"
     ]
    }
   ],
   "source": [
    "print(listOfData[0])"
   ]
  }
 ],
 "metadata": {
  "kernelspec": {
   "display_name": "Python 3",
   "language": "python",
   "name": "python3"
  },
  "language_info": {
   "codemirror_mode": {
    "name": "ipython",
    "version": 3
   },
   "file_extension": ".py",
   "mimetype": "text/x-python",
   "name": "python",
   "nbconvert_exporter": "python",
   "pygments_lexer": "ipython3",
   "version": "3.6.4"
  }
 },
 "nbformat": 4,
 "nbformat_minor": 2
}
